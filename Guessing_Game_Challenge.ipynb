{
  "nbformat": 4,
  "nbformat_minor": 0,
  "metadata": {
    "colab": {
      "provenance": [],
      "authorship_tag": "ABX9TyPzikkOO65TgjBKQ4euW/xE",
      "include_colab_link": true
    },
    "kernelspec": {
      "name": "python3",
      "display_name": "Python 3"
    },
    "language_info": {
      "name": "python"
    }
  },
  "cells": [
    {
      "cell_type": "markdown",
      "metadata": {
        "id": "view-in-github",
        "colab_type": "text"
      },
      "source": [
        "<a href=\"https://colab.research.google.com/github/MJ7869/Guessing-Game-Challenge/blob/main/Guessing_Game_Challenge.ipynb\" target=\"_parent\"><img src=\"https://colab.research.google.com/assets/colab-badge.svg\" alt=\"Open In Colab\"/></a>"
      ]
    },
    {
      "cell_type": "code",
      "source": [
        "import random\n",
        "\n",
        "# Function to handle the guessing game logic\n",
        "def play_game(min_range, max_range, max_guesses):\n",
        "    # Randomly select a number within the specified range\n",
        "    r = random.randint(min_range, max_range)\n",
        "    print(\"Welcome to the Guessing Number Game\")\n",
        "    print(f\"Please enter numbers between {min_range} and {max_range}\")\n",
        "\n",
        "    # List to store user's guesses\n",
        "    g = []\n",
        "    # Counter for the number of guesses\n",
        "    flag = 0\n",
        "\n",
        "    # Loop until the user reaches the maximum number of guesses\n",
        "    while flag < max_guesses:\n",
        "        try:\n",
        "            # Prompt the user to enter their guess\n",
        "            a = int(input(\"Enter your guess: \"))\n",
        "            g.append(a)\n",
        "\n",
        "            # Check if the guess is correct\n",
        "            if a == r:\n",
        "                flag += 1\n",
        "                print(f\"You guessed the correct number {a} in {flag} guesses!\")\n",
        "                break\n",
        "            # Provide feedback if the guess is close (warm)\n",
        "            elif abs(r - a) <= 10:\n",
        "                print(\"Warm\")\n",
        "            # Provide feedback if the guess is moderately close (cool)\n",
        "            elif abs(r - a) <= 20:\n",
        "                print(\"Cool\")\n",
        "            # Indicate that the guess is far off (cold)\n",
        "            else:\n",
        "                print(\"Cold\")\n",
        "            flag += 1\n",
        "        except ValueError:\n",
        "            # Handle the case where the input is not a valid integer\n",
        "            print(\"Please enter a valid number\")\n",
        "\n",
        "    # If the user exhausts all guesses, reveal the correct number\n",
        "    if flag == max_guesses:\n",
        "        print(f\"Sorry, you've reached the maximum number of guesses. The correct number was {r}\")\n",
        "\n",
        "    # Display all the guesses made by the user\n",
        "    print(f\"All guesses: {g}\")\n",
        "    return g\n",
        "\n",
        "# Main game loop to allow replaying the game with different difficulty levels\n",
        "while True:\n",
        "    print(\"Choose a difficulty level:\")\n",
        "    print(\"1. Easy (1-50, 10 guesses)\")\n",
        "    print(\"2. Medium (1-100, 15 guesses)\")\n",
        "    print(\"3. Hard (1-200, 20 guesses)\")\n",
        "\n",
        "    # Prompt the user to select a difficulty level\n",
        "    choice = input(\"Enter the level number (1/2/3): \")\n",
        "\n",
        "    # Set the game parameters based on the chosen difficulty level\n",
        "    if choice == \"1\":\n",
        "        guesses = play_game(1, 50, 10)\n",
        "    elif choice == \"2\":\n",
        "        guesses = play_game(1, 100, 15)\n",
        "    elif choice == \"3\":\n",
        "        guesses = play_game(1, 200, 20)\n",
        "    else:\n",
        "        # Handle invalid difficulty level choices\n",
        "        print(\"Invalid choice. Please select a valid difficulty level.\")\n",
        "        continue\n",
        "\n",
        "    # Ask the user if they want to play again\n",
        "    play_again = input(\"Play again? (yes/no): \").lower()\n",
        "    if play_again != \"yes\":\n",
        "        break"
      ],
      "metadata": {
        "id": "2R909uypT61v"
      },
      "execution_count": null,
      "outputs": []
    }
  ]
}